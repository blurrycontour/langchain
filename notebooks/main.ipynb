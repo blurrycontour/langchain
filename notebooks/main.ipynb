{
 "cells": [
  {
   "cell_type": "code",
   "execution_count": 7,
   "metadata": {},
   "outputs": [],
   "source": [
    "from dotenv import load_dotenv\n",
    "from langchain_core.prompts import PromptTemplate\n",
    "from langchain_core.output_parsers import StrOutputParser\n",
    "from langchain_community.llms import GPT4All, Ollama\n",
    "import os\n",
    "import requests\n",
    "\n",
    "load_dotenv()\n",
    "OLLAMA_URL = os.getenv(\"OLLAMA_URL\")"
   ]
  },
  {
   "cell_type": "code",
   "execution_count": null,
   "metadata": {},
   "outputs": [],
   "source": [
    "llm = GPT4All(\n",
    "    model=\".models/mistral-7b-openorca.gguf2.Q4_0.gguf\",\n",
    "    device=\"gpu\",\n",
    "    n_threads=4\n",
    ")"
   ]
  },
  {
   "cell_type": "code",
   "execution_count": 8,
   "metadata": {},
   "outputs": [
    {
     "name": "stdout",
     "output_type": "stream",
     "text": [
      "gemma:7b\n",
      "llama2:13b\n",
      "mistral:7b\n",
      "mixtral:8x7b\n"
     ]
    }
   ],
   "source": [
    "payload = requests.get(f\"{OLLAMA_URL}/api/tags\").json()\n",
    "model_names = [model['name'] for model in payload['models']]\n",
    "model_names = (\"\\n\".join(model_names)).rstrip(\"\\n\")\n",
    "print(model_names)"
   ]
  },
  {
   "cell_type": "code",
   "execution_count": 12,
   "metadata": {},
   "outputs": [],
   "source": [
    "llm = Ollama(\n",
    "    model=\"gemma:7b\",\n",
    "    base_url=OLLAMA_URL,\n",
    "    temperature=0.7,\n",
    ")"
   ]
  },
  {
   "cell_type": "code",
   "execution_count": 13,
   "metadata": {},
   "outputs": [],
   "source": [
    "template = \"\"\"{question}\n",
    "\n",
    "Make sure to answer this in list format and keep it brief. Answer strictly in {language} only.\"\"\"\n",
    "prompt = PromptTemplate.from_template(template)\n",
    "\n",
    "output_parser = StrOutputParser()"
   ]
  },
  {
   "cell_type": "code",
   "execution_count": 14,
   "metadata": {},
   "outputs": [
    {
     "name": "stdout",
     "output_type": "stream",
     "text": [
      "* Neil Armstrong\n",
      "* Edwin Aldrin\n",
      "* Charles Duke\n",
      "* Eugene Cernan\n",
      "* John Young\n"
     ]
    }
   ],
   "source": [
    "chain = prompt | llm | output_parser\n",
    "\n",
    "output = chain.invoke({\n",
    "    \"question\": \"Which humans have entered space till date?\",\n",
    "    \"language\": \"Hindi\"\n",
    "})\n",
    "print(output)"
   ]
  }
 ],
 "metadata": {
  "kernelspec": {
   "display_name": "chain",
   "language": "python",
   "name": "python3"
  },
  "language_info": {
   "codemirror_mode": {
    "name": "ipython",
    "version": 3
   },
   "file_extension": ".py",
   "mimetype": "text/x-python",
   "name": "python",
   "nbconvert_exporter": "python",
   "pygments_lexer": "ipython3",
   "version": "3.11.8"
  }
 },
 "nbformat": 4,
 "nbformat_minor": 2
}
