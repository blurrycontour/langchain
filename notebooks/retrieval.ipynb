{
 "cells": [
  {
   "cell_type": "code",
   "execution_count": 1,
   "metadata": {},
   "outputs": [],
   "source": [
    "import os\n",
    "import requests\n",
    "from dotenv import load_dotenv\n",
    "from operator import itemgetter\n",
    "\n",
    "from langchain_core.prompts import PromptTemplate\n",
    "from langchain_core.output_parsers import StrOutputParser\n",
    "from langchain_community.llms import Ollama\n",
    "\n",
    "from langchain_community.document_loaders import DirectoryLoader, TextLoader\n",
    "from langchain.text_splitter import RecursiveCharacterTextSplitter\n",
    "from langchain_community.vectorstores import FAISS\n",
    "from langchain_community.embeddings import OllamaEmbeddings\n",
    "from langchain_core.runnables import RunnablePassthrough, RunnableLambda\n",
    "\n",
    "load_dotenv()\n",
    "OLLAMA_URL = os.getenv(\"OLLAMA_URL\")"
   ]
  },
  {
   "cell_type": "code",
   "execution_count": null,
   "metadata": {},
   "outputs": [],
   "source": [
    "payload = requests.get(f\"{OLLAMA_URL}/api/tags\").json()\n",
    "model_names = [model['name'] for model in payload['models']]\n",
    "model_names = (\"\\n\".join(model_names)).rstrip(\"\\n\")\n",
    "print(model_names)"
   ]
  },
  {
   "cell_type": "code",
   "execution_count": 2,
   "metadata": {},
   "outputs": [],
   "source": [
    "llm = Ollama(\n",
    "    model=\"mistral:7b\",\n",
    "    base_url=OLLAMA_URL,\n",
    "    temperature=0.5,\n",
    ")"
   ]
  },
  {
   "cell_type": "code",
   "execution_count": 3,
   "metadata": {},
   "outputs": [],
   "source": [
    "template = \"\"\"Use the following context strictly to formulate your answers:\n",
    "Context:\\n{context}\\n\n",
    "Question: {question}\n",
    "\n",
    "Make sure to answer this briefly. Answer strictly in {language} only.\n",
    "Answer: \"\"\"\n",
    "\n",
    "prompt = PromptTemplate.from_template(template)\n",
    "\n",
    "output_parser = StrOutputParser()"
   ]
  },
  {
   "cell_type": "code",
   "execution_count": 64,
   "metadata": {},
   "outputs": [
    {
     "name": "stderr",
     "output_type": "stream",
     "text": [
      "100%|██████████| 2/2 [00:00<00:00, 666.71it/s]"
     ]
    },
    {
     "name": "stdout",
     "output_type": "stream",
     "text": [
      "Loading existing FAISS index\n"
     ]
    },
    {
     "name": "stderr",
     "output_type": "stream",
     "text": [
      "\n"
     ]
    }
   ],
   "source": [
    "loader = DirectoryLoader('../documents', glob=\"**/*.txt\", show_progress=True, loader_cls=TextLoader)\n",
    "documents = loader.load()\n",
    "\n",
    "text_splitter = RecursiveCharacterTextSplitter(chunk_size=1000, chunk_overlap=200)\n",
    "chunks = text_splitter.split_documents(documents)\n",
    "embedding = OllamaEmbeddings(\n",
    "    model=\"mistral:7b\",\n",
    "    base_url=OLLAMA_URL,\n",
    ")\n",
    "\n",
    "DB_PATH = \"../.data/faiss_index\"\n",
    "if os.path.isdir(DB_PATH):\n",
    "    print(\"Loading existing FAISS index\")\n",
    "    vectorstore = FAISS.load_local(DB_PATH, embeddings=embedding, allow_dangerous_deserialization=True)\n",
    "else:\n",
    "    print(\"Creating new FAISS index\")\n",
    "    vectorstore = FAISS.from_documents(documents=chunks, embedding=embedding, normalize_L2=True)\n",
    "    vectorstore.save_local(\"../.data/faiss_index\")\n",
    "\n",
    "retriever = vectorstore.as_retriever()"
   ]
  },
  {
   "cell_type": "code",
   "execution_count": 62,
   "metadata": {},
   "outputs": [
    {
     "name": "stdout",
     "output_type": "stream",
     "text": [
      "76be3be5-e9f1-49b5-814c-a8e4cf7e15db ..\\documents\\info.txt\n",
      "e8bcdc34-ea85-493b-b56e-a5346d90f1df ..\\documents\\other.txt\n"
     ]
    }
   ],
   "source": [
    "for k,v in vectorstore.docstore._dict.items():\n",
    "    print(k, v.metadata['source'])"
   ]
  },
  {
   "cell_type": "code",
   "execution_count": 5,
   "metadata": {},
   "outputs": [],
   "source": [
    "def format_docs(docs):\n",
    "    return \"\\n\\n\".join(f\"[Document = {doc.metadata['source']}]\\n{doc.page_content}\" for doc in docs)\n",
    "\n",
    "def debug(inputs):\n",
    "    try:\n",
    "        print(f\"DEBUG\\n-----\\n{inputs.text}\\n\")\n",
    "    except:\n",
    "        print(f\"DEBUG\\n-----\\n{inputs}\\n\")\n",
    "    return inputs\n",
    "\n",
    "sources = []\n",
    "def save_sources(docs):\n",
    "    sources = docs\n",
    "    return docs"
   ]
  },
  {
   "cell_type": "code",
   "execution_count": 6,
   "metadata": {},
   "outputs": [
    {
     "name": "stdout",
     "output_type": "stream",
     "text": [
      " The current value of Bitcoin, as mentioned in the given context, is 12 USD (Reference Document = ..\\documents\\other.txt).\n"
     ]
    }
   ],
   "source": [
    "chain = (\n",
    "    {\n",
    "        \"context\": itemgetter(\"question\") | retriever | save_sources | format_docs,\n",
    "        \"question\": itemgetter(\"question\"),\n",
    "        \"language\": itemgetter(\"language\")\n",
    "    }\n",
    "    # | RunnableLambda(debug)\n",
    "    | prompt\n",
    "    # | RunnableLambda(debug)\n",
    "    | llm\n",
    "    | output_parser\n",
    "    | add_sources\n",
    ")\n",
    "\n",
    "output = chain.invoke({\n",
    "    \"question\": \"What is current value of Bitcoin?\",\n",
    "    \"language\": \"English\"\n",
    "})\n",
    "print(output)"
   ]
  },
  {
   "cell_type": "code",
   "execution_count": 8,
   "metadata": {},
   "outputs": [
    {
     "name": "stdout",
     "output_type": "stream",
     "text": [
      "[Document = ..\\documents\\other.txt]\n",
      "Bitcoin's current value is 12 USD.\n",
      "Ethereum's current value is 5.5 INR.\n",
      "\n",
      "[Document = ..\\documents\\info.txt]\n",
      "My salary is 15000 SEK in the year 2029.\n"
     ]
    }
   ],
   "source": [
    "rag = retriever | format_docs\n",
    "print(rag.invoke(\"Bitcoin\"))"
   ]
  }
 ],
 "metadata": {
  "kernelspec": {
   "display_name": "chain",
   "language": "python",
   "name": "python3"
  },
  "language_info": {
   "codemirror_mode": {
    "name": "ipython",
    "version": 3
   },
   "file_extension": ".py",
   "mimetype": "text/x-python",
   "name": "python",
   "nbconvert_exporter": "python",
   "pygments_lexer": "ipython3",
   "version": "3.11.8"
  }
 },
 "nbformat": 4,
 "nbformat_minor": 2
}
