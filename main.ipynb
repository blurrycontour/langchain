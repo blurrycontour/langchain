{
 "cells": [
  {
   "cell_type": "code",
   "execution_count": null,
   "metadata": {},
   "outputs": [],
   "source": [
    "from dotenv import load_dotenv\n",
    "load_dotenv()"
   ]
  },
  {
   "cell_type": "code",
   "execution_count": 1,
   "metadata": {},
   "outputs": [],
   "source": [
    "from langchain_core.prompts import PromptTemplate\n",
    "from langchain_core.output_parsers import StrOutputParser\n",
    "from langchain_community.llms import GPT4All, Ollama\n",
    "import requests"
   ]
  },
  {
   "cell_type": "code",
   "execution_count": null,
   "metadata": {},
   "outputs": [],
   "source": [
    "llm = GPT4All(\n",
    "    model=\".models/mistral-7b-openorca.gguf2.Q4_0.gguf\",\n",
    "    device=\"gpu\",\n",
    "    n_threads=4\n",
    ")"
   ]
  },
  {
   "cell_type": "code",
   "execution_count": 2,
   "metadata": {},
   "outputs": [
    {
     "name": "stdout",
     "output_type": "stream",
     "text": [
      "gemma:7b\n",
      "llama2:13b\n",
      "mistral:7b\n",
      "mixtral:8x7b\n"
     ]
    }
   ],
   "source": [
    "payload = requests.get(\"http://10.246.167.250:9200/api/tags\").json()\n",
    "model_names = [model['name'] for model in payload['models']]\n",
    "model_names = (\"\\n\".join(model_names)).rstrip(\"\\n\")\n",
    "print(model_names)"
   ]
  },
  {
   "cell_type": "code",
   "execution_count": 3,
   "metadata": {},
   "outputs": [],
   "source": [
    "llm = Ollama(\n",
    "    model=\"mistral:7b\",\n",
    "    base_url=\"http://10.246.167.250:9200\",\n",
    "    temperature=0.7,\n",
    ")"
   ]
  },
  {
   "cell_type": "code",
   "execution_count": 4,
   "metadata": {},
   "outputs": [],
   "source": [
    "template = \"\"\"{question}\n",
    "\n",
    "Make sure to answer this in list format and keep it brief.\"\"\"\n",
    "prompt = PromptTemplate.from_template(template)\n",
    "\n",
    "output_parser = StrOutputParser()"
   ]
  },
  {
   "cell_type": "code",
   "execution_count": 6,
   "metadata": {},
   "outputs": [
    {
     "name": "stdout",
     "output_type": "stream",
     "text": [
      " Here is a list of the first humans to enter space, organized by their spaceflight:\n",
      "\n",
      "1. Yuri Gagarin (April 12, 1961) - Soviet Union\n",
      "2. Gherman Titov (August 6, 1961) - Soviet Union\n",
      "3. John Glenn (February 20, 1962) - United States\n",
      "4. Alexei Leonov (March 18, 1965) - Soviet Union (first spacewalk)\n",
      "5. Edward White II (June 3, 1965) - United States (first American spacewalk)\n",
      "6. Neil Armstrong (July 16, 1969) - United States (first man on the moon)\n",
      "7. Valentina Tereshkova (June 16, 1963) - Soviet Union (first woman in space)\n",
      "8. Sally Ride (June 18, 1983) - United States (first American woman in space)\n",
      "\n",
      "These are just a few of the many individuals who have entered space throughout history. Since then, thousands more have joined them, representing numerous countries and organizations.\n"
     ]
    }
   ],
   "source": [
    "chain = prompt | llm | output_parser\n",
    "output = chain.invoke({\"question\":\"Who all have entered space till date?\"})\n",
    "print(output)"
   ]
  }
 ],
 "metadata": {
  "kernelspec": {
   "display_name": "chain",
   "language": "python",
   "name": "python3"
  },
  "language_info": {
   "codemirror_mode": {
    "name": "ipython",
    "version": 3
   },
   "file_extension": ".py",
   "mimetype": "text/x-python",
   "name": "python",
   "nbconvert_exporter": "python",
   "pygments_lexer": "ipython3",
   "version": "3.11.8"
  }
 },
 "nbformat": 4,
 "nbformat_minor": 2
}
